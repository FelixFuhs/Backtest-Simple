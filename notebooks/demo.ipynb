{
  "nbformat": 4,
  "nbformat_minor": 5,
  "metadata": {
    "kernelspec": {
      "display_name": "Python 3 (ipykernel)",
      "language": "python",
      "name": "python3"
    },
    "language_info": {
      "codemirror_mode": {
        "name": "ipython",
        "version": 3
      },
      "file_extension": ".py",
      "mimetype": "text/x-python",
      "name": "python",
      "nbconvert_exporter": "python",
      "pygments_lexer": "ipython3",
      "version": "3.10"
    }
  },
  "cells": [
    {
      "cell_type": "markdown",
      "metadata": {},
      "source": [
        "# Simple Moving Average Crossover Backtest Demo\n",
        "\n",
        "This notebook demonstrates a full backtesting pipeline using the modular framework:\n",
        "0. Install Dependencies (if needed)\n",
        "1. Setup Environment\n",
        "2. Import modules\n",
        "3. Load price and risk-free rate data\n",
        "4. Generate trading signals (SMA Crossover for SPY)\n",
        "   - Includes detailed inspection of signals and SMAs\n",
        "5. Run the backtest simulation\n",
        "6. Display performance metrics\n",
        "7. Plot equity curve and drawdown periods"
      ]
    },
    {
      "cell_type": "markdown",
      "metadata": {},
      "source": [
        "### 0. Install Dependencies\n",
        "\n",
        "This cell installs the `yfinance` library if it's not already present. After running this for the first time (if it installs anything), you might need to **restart the kernel**."
      ]
    },
    {
      "cell_type": "code",
      "metadata": {},
      "source": [
        "!pip install yfinance pandas matplotlib"
      ],
      "execution_count": null,
      "outputs": []
    },
    {
      "cell_type": "markdown",
      "metadata": {},
      "source": [
        "### 1. Setup Environment\n",
        "\n",
        "Add the project's root directory to the Python path to allow importing the `src` package."
      ]
    },
    {
      "cell_type": "code",
      "metadata": {},
      "source": [
        "import sys\n",
        "import pathlib\n",
        "\n",
        "project_root = pathlib.Path(\"..\").resolve()\n",
        "if str(project_root) not in sys.path:\n",
        "    sys.path.append(str(project_root))\n",
        "    print(f\"Added project root {project_root} to sys.path\")\n",
        "else:\n",
        "    print(f\"Project root {project_root} already in sys.path\")"
      ],
      "execution_count": null,
      "outputs": []
    },
    {
      "cell_type": "markdown",
      "metadata": {},
      "source": [
        "### 2. Imports\n",
        "\n",
        "Import libraries and our custom modules from the `src` package."
      ]
    },
    {
      "cell_type": "code",
      "metadata": {},
      "source": [
        "import pandas as pd\n",
        "import numpy as np\n",
        "import matplotlib.pyplot as plt\n",
        "from src import data_loader, strategy, backtester, metrics"
      ],
      "execution_count": null,
      "outputs": []
    },
    {
      "cell_type": "markdown",
      "metadata": {},
      "source": [
        "### 3. Load Data\n",
        "\n",
        "Fetch historical price data for SPY and load risk-free rates."
      ]
    },
    {
      "cell_type": "code",
      "metadata": {},
      "source": [
        "tickers = [\"SPY\"]\n",
        "start_date = \"2008-01-01\"\n",
        "end_date = None \n",
        "\n",
        "print(f\"Loading price data for {tickers} from {start_date}...\")\n",
        "prices_df = data_loader.get_prices(tickers, start=start_date, end=end_date, cache=True)\n",
        "price = prices_df[tickers[0]]['Adj Close']\n",
        "print(f\"Loaded {tickers[0]} Adj Close prices: {len(price)} points from {price.index.min().date()} to {price.index.max().date()}\\n\")\n",
        "\n",
        "rf_filename = \"risk-free.csv\"\n",
        "rf_path = project_root / rf_filename\n",
        "print(f\"Loading risk-free rates from {rf_path}...\")\n",
        "rf = data_loader.load_risk_free(path=str(rf_path))\n",
        "print(f\"Loaded risk-free rates: {len(rf)} points from {rf.index.min().date()} to {rf.index.max().date()}\")"
      ],
      "execution_count": null,
      "outputs": []
    },
    {
      "cell_type": "markdown",
      "metadata": {},
      "source": [
        "### 4. Generate Signals & Inspect\n",
        "\n",
        "Generate SMA Crossover signals and inspect their characteristics."
      ]
    },
    {
      "cell_type": "code",
      "metadata": {},
      "source": [
        "short_window = 50\n",
        "long_window = 200\n",
        "\n",
        "print(f\"Generating SMA crossover signals (short: {short_window}, long: {long_window})...\")\n",
        "positions = strategy.sma_crossover_signal(price, short=short_window, long=long_window)\n",
        "print(\"Signal generation complete.\")"
      ],
      "execution_count": null,
      "outputs": []
    },
    {
      "cell_type": "markdown",
      "metadata": {},
      "source": [
        "#### 4a. Inspect Positions Series"
      ]
    },
    {
      "cell_type": "code",
      "metadata": {},
      "source": [
        "print(\"--- Inspecting Positions ---\")\n",
        "print(\"Positions value counts (0: Flat, 1: Long):\")\n",
        "print(positions.value_counts(dropna=False))\n",
        "\n",
        "print(\"\\nPeriods of holding long (1) or flat (0):\")\n",
        "current_state = positions.iloc[0]\n",
        "current_start_date = positions.index[0]\n",
        "for i in range(1, len(positions)):\n",
        "    if positions.iloc[i] != current_state:\n",
        "        print(f\"  State {current_state} from {current_start_date.date()} to {positions.index[i-1].date()} ({(positions.index[i-1] - current_start_date).days + 1} days)\")\n",
        "        current_state = positions.iloc[i]\n",
        "        current_start_date = positions.index[i]\n",
        "print(f\"  State {current_state} from {current_start_date.date()} to {positions.index[-1].date()} ({(positions.index[-1] - current_start_date).days + 1} days)\")\n",
        "\n",
        "trade_signals = positions.diff().fillna(0).astype(int)\n",
        "print(\"\\nTrade signals (1: Buy, -1: Sell, 0: Hold):\")\n",
        "print(trade_signals.value_counts(dropna=False))\n",
        "\n",
        "actual_trade_dates = trade_signals[trade_signals != 0].index\n",
        "if not actual_trade_dates.empty:\n",
        "    print(f\"\\nActual trade dates ({len(actual_trade_dates)} trades):\")\n",
        "    for trade_date in actual_trade_dates:\n",
        "        action = \"Buy\" if trade_signals.loc[trade_date] == 1 else \"Sell\"\n",
        "        print(f\"  {trade_date.date()}: {action} (Position became {positions.loc[trade_date]})\")\n",
        "else:\n",
        "    print(\"\\nNo actual trades detected (position did not change significantly). This might indicate the initial position was 0 and never changed, or changed from NaN to 0.\")\n",
        "\n",
        "fig_pos, ax_pos = plt.subplots(figsize=(14, 4))\n",
        "positions.plot(ax=ax_pos, title=\"Strategy Positions Over Time (0=Flat, 1=Long)\", drawstyle=\"steps-post\")\n",
        "ax_pos.set_yticks([0, 1])\n",
        "ax_pos.set_yticklabels(['Flat (0)', 'Long (1)'])\n",
        "ax_pos.grid(True, linestyle='--', alpha=0.7)\n",
        "plt.show()"
      ],
      "execution_count": null,
      "outputs": []
    },
    {
      "cell_type": "markdown",
      "metadata": {},
      "source": [
        "#### 4b. Inspect SMAs and Price"
      ]
    },
    {
      "cell_type": "code",
      "metadata": {},
      "source": [
        "print(\"\\n--- Inspecting SMAs and Price ---\")\n",
        "sma_short_plot = price.rolling(window=short_window, min_periods=short_window).mean()\n",
        "sma_long_plot = price.rolling(window=long_window, min_periods=long_window).mean()\n",
        "\n",
        "fig_sma, ax_sma = plt.subplots(figsize=(14, 7))\n",
        "price.plot(ax=ax_sma, label=f'{tickers[0]} Adj Close', alpha=0.6, color='dimgray')\n",
        "sma_short_plot.plot(ax=ax_sma, label=f'SMA {short_window}', color='orange')\n",
        "sma_long_plot.plot(ax=ax_sma, label=f'SMA {long_window}', color='dodgerblue')\n",
        "\n",
        "if not actual_trade_dates.empty:\n",
        "    buys = actual_trade_dates[trade_signals.loc[actual_trade_dates] == 1]\n",
        "    sells = actual_trade_dates[trade_signals.loc[actual_trade_dates] == -1]\n",
        "    if not buys.empty:\n",
        "        ax_sma.plot(buys, sma_long_plot.loc[buys], '^', markersize=10, color='lime', alpha=0.8, label='Buy Signal', markeredgecolor='black')\n",
        "    if not sells.empty:\n",
        "        ax_sma.plot(sells, sma_long_plot.loc[sells], 'v', markersize=10, color='red', alpha=0.8, label='Sell Signal', markeredgecolor='black')\n",
        "\n",
        "ax_sma.legend()\n",
        "ax_sma.set_title(f\"{tickers[0]} Price and SMA ({short_window}/{long_window}) Crossover Points\")\n",
        "ax_sma.set_xlabel(\"Date\")\n",
        "ax_sma.set_ylabel(\"Price\")\n",
        "ax_sma.grid(True, linestyle='--', alpha=0.7)\n",
        "plt.show()"
      ],
      "execution_count": null,
      "outputs": []
    },
    {
      "cell_type": "markdown",
      "metadata": {},
      "source": [
        "### 5. Run Backtest\n",
        "\n",
        "Simulate the strategy using the `Backtester`."
      ]
    },
    {
      "cell_type": "code",
      "metadata": {},
      "source": [
        "transaction_cost_bps = 10.0\n",
        "\n",
        "print(\"Initializing and running the backtest...\")\n",
        "bt_instance = backtester.Backtester(prices=price, positions=positions, rf=rf, cost_bps=transaction_cost_bps)\n",
        "result = bt_instance.run()\n",
        "print(\"Backtest complete.\")"
      ],
      "execution_count": null,
      "outputs": []
    },
    {
      "cell_type": "markdown",
      "metadata": {},
      "source": [
        "### 6. Show Performance Metrics\n",
        "\n",
        "Display a summary of the strategy's performance."
      ]
    },
    {
      "cell_type": "code",
      "metadata": {},
      "source": [
        "print(\"Calculating and displaying performance metrics...\")\n",
        "performance_summary = metrics.summarize(result)\n",
        "print(\"\\nPerformance Summary:\")\n",
        "print(performance_summary)"
      ],
      "execution_count": null,
      "outputs": []
    },
    {
      "cell_type": "markdown",
      "metadata": {},
      "source": [
        "### 7. Plot Results\n",
        "\n",
        "Visualize the equity curve and drawdown periods."
      ]
    },
    {
      "cell_type": "code",
      "metadata": {},
      "source": [
        "print(\"Plotting equity curve and drawdown periods...\")\n",
        "fig, (ax1, ax2) = plt.subplots(nrows=2, ncols=1, figsize=(14, 10), sharex=True)\n",
        "\n",
        "metrics.plot_equity(result, ax=ax1)\n",
        "ax1.set_title(f\"{tickers[0]} SMA ({short_window}/{long_window}) Crossover: Equity Curve\")\n",
        "\n",
        "metrics.plot_drawdown(result, ax=ax2)\n",
        "ax2.set_title(\"Drawdown Periods\")\n",
        "\n",
        "plt.tight_layout()\n",
        "plt.show()"
      ],
      "execution_count": null,
      "outputs": []
    },
    {
      "cell_type": "markdown",
      "metadata": {},
      "source": [
        "### Next Steps\n",
        "\n",
        "- Try different signals or strategies (e.g., momentum, mean reversion, volatility-based models).\n",
        "- Implement parameter sweeps to optimize strategy parameters (like SMA windows).\n",
        "- Test the framework with other assets (e.g., QQQ, EFA, IEF) or a portfolio of assets.\n",
        "- Enhance the `metrics` module with additional performance measures (e.g., Sortino ratio, Calmar ratio, rolling Sharpe ratio, beta, alpha).\n",
        "- Develop more sophisticated transaction cost models (e.g., including slippage, fixed costs).\n",
        "- Add support for short selling or different position sizing schemes."
      ]
    }
  ]
}
