{
  "cells": [
    {
      "cell_type": "markdown",
      "metadata": {},
      "source": [
        "# Simple Moving Average Crossover Backtest Demo\n",
        "\n",
        "This notebook demonstrates a full backtesting pipeline using the modular framework:\n",
        "1. Setup Environment\n",
        "2. Import modules\n",
        "3. Load price and risk-free rate data\n",
        "4. Generate trading signals (SMA Crossover for SPY)\n",
        "5. Run the backtest simulation\n",
        "6. Display performance metrics\n",
        "7. Plot equity curve and drawdown periods"
      ]
    },
    {
      "cell_type": "markdown",
      "metadata": {},
      "source": [
        "### 1. Setup Environment\n",
        "\n",
        "Add the `src` directory (containing our custom modules) to the Python path. This allows us to import them."
      ]
    },
    {
      "cell_type": "code",
      "execution_count": 2,
      "metadata": {},
      "outputs": [
        {
          "name": "stdout",
          "output_type": "stream",
          "text": [
            "/workspaces/Backtest-Simple/src already in sys.path\n"
          ]
        }
      ],
      "source": [
        "# Add src/ to Python path to import custom modules\n",
        "import sys\n",
        "import pathlib\n",
        "\n",
        "# Assuming the notebook is in 'quant-backtester/notebooks/'\n",
        "# and 'src' is in 'quant-backtester/src/'\n",
        "project_root = pathlib.Path(\"..\").resolve()\n",
        "src_path = project_root / \"src\"\n",
        "if str(src_path) not in sys.path:\n",
        "    sys.path.append(str(src_path))\n",
        "    print(f\"Added {src_path} to sys.path\")\n",
        "else:\n",
        "    print(f\"{src_path} already in sys.path\")"
      ]
    },
    {
      "cell_type": "markdown",
      "metadata": {},
      "source": [
        "### 2. Imports\n",
        "\n",
        "Import necessary third-party libraries and our custom modules from the `src` directory."
      ]
    },
    {
      "cell_type": "code",
      "execution_count": 3,
      "metadata": {},
      "outputs": [
        {
          "ename": "ModuleNotFoundError",
          "evalue": "No module named 'src'",
          "output_type": "error",
          "traceback": [
            "\u001b[31m---------------------------------------------------------------------------\u001b[39m",
            "\u001b[31mModuleNotFoundError\u001b[39m                       Traceback (most recent call last)",
            "\u001b[36mCell\u001b[39m\u001b[36m \u001b[39m\u001b[32mIn[3]\u001b[39m\u001b[32m, line 3\u001b[39m\n\u001b[32m      1\u001b[39m \u001b[38;5;28;01mimport\u001b[39;00m\u001b[38;5;250m \u001b[39m\u001b[34;01mpandas\u001b[39;00m\u001b[38;5;250m \u001b[39m\u001b[38;5;28;01mas\u001b[39;00m\u001b[38;5;250m \u001b[39m\u001b[34;01mpd\u001b[39;00m\n\u001b[32m      2\u001b[39m \u001b[38;5;28;01mimport\u001b[39;00m\u001b[38;5;250m \u001b[39m\u001b[34;01mmatplotlib\u001b[39;00m\u001b[34;01m.\u001b[39;00m\u001b[34;01mpyplot\u001b[39;00m\u001b[38;5;250m \u001b[39m\u001b[38;5;28;01mas\u001b[39;00m\u001b[38;5;250m \u001b[39m\u001b[34;01mplt\u001b[39;00m\n\u001b[32m----> \u001b[39m\u001b[32m3\u001b[39m \u001b[38;5;28;01mfrom\u001b[39;00m\u001b[38;5;250m \u001b[39m\u001b[34;01msrc\u001b[39;00m\u001b[38;5;250m \u001b[39m\u001b[38;5;28;01mimport\u001b[39;00m data_loader, strategy, backtester, metrics\n",
            "\u001b[31mModuleNotFoundError\u001b[39m: No module named 'src'"
          ]
        }
      ],
      "source": [
        "import pandas as pd\n",
        "import matplotlib.pyplot as plt\n",
        "from src import data_loader, strategy, backtester, metrics"
      ]
    },
    {
      "cell_type": "markdown",
      "metadata": {},
      "source": [
        "### 3. Load Data\n",
        "\n",
        "Fetch historical price data for SPY (S&P 500 ETF) from 2008 to the present. We also load daily risk-free rates from a local CSV file."
      ]
    },
    {
      "cell_type": "code",
      "execution_count": null,
      "metadata": {},
      "outputs": [],
      "source": [
        "# Define parameters for data loading\n",
        "tickers = [\"SPY\"]\n",
        "start_date = \"2008-01-01\"\n",
        "end_date = None  # None means fetch up to the latest available data\n",
        "\n",
        "# Load historical OHLCV data\n",
        "print(f\"Loading price data for {tickers} from {start_date}...\")\n",
        "prices_df = data_loader.get_prices(tickers, start=start_date, end=end_date, cache=True)\n",
        "\n",
        "# Extract Adjusted Close prices for SPY as our main price series for the strategy\n",
        "# Assuming 'SPY' is the primary ticker and present in prices_df\n",
        "price = prices_df[tickers[0]]['Adj Close']\n",
        "print(f\"Loaded SPY Adj Close prices: {len(price)} data points from {price.index.min().date()} to {price.index.max().date()}\\n\")\n",
        "\n",
        "# Load risk-free rates\n",
        "# Construct the path to 'risk-free.csv' relative to the project root\n",
        "rf_filename = \"risk-free.csv\"\n",
        "rf_path = project_root / rf_filename # project_root defined in cell 1\n",
        "print(f\"Loading risk-free rates from {rf_path}...\")\n",
        "rf = data_loader.load_risk_free(path=str(rf_path))\n",
        "print(f\"Loaded risk-free rates: {len(rf)} data points from {rf.index.min().date()} to {rf.index.max().date()}\")"
      ]
    },
    {
      "cell_type": "markdown",
      "metadata": {},
      "source": [
        "### 4. Generate Signals\n",
        "\n",
        "Generate trading signals using a Simple Moving Average (SMA) Crossover strategy. We'll use a 50-day SMA as the short-term average and a 200-day SMA as the long-term average."
      ]
    },
    {
      "cell_type": "code",
      "execution_count": null,
      "metadata": {},
      "outputs": [],
      "source": [
        "# Define SMA window lengths\n",
        "short_window = 50\n",
        "long_window = 200\n",
        "\n",
        "print(f\"Generating SMA crossover signals (short: {short_window}, long: {long_window})...\")\n",
        "positions = strategy.sma_crossover_signal(price, short=short_window, long=long_window)\n",
        "print(\"Signal generation complete.\")\n",
        "print(f\"Positions series: {len(positions)} data points.\")\n",
        "print(f\"Example positions (last 5 days):\\n{positions.tail()}\")"
      ]
    },
    {
      "cell_type": "markdown",
      "metadata": {},
      "source": [
        "### 5. Run Backtest\n",
        "\n",
        "Simulate the trading strategy using the `Backtester` class. This will apply the generated positions to the historical price data, accounting for transaction costs and incorporating risk-free rates for periods when the strategy is flat."
      ]
    },
    {
      "cell_type": "code",
      "execution_count": null,
      "metadata": {},
      "outputs": [],
      "source": [
        "# Define transaction cost in basis points (10 bps = 0.1%)\n",
        "transaction_cost_bps = 10.0\n",
        "\n",
        "print(\"Initializing and running the backtest...\")\n",
        "bt_instance = backtester.Backtester(prices=price, positions=positions, rf=rf, cost_bps=transaction_cost_bps)\n",
        "result = bt_instance.run()\n",
        "print(\"Backtest complete.\")"
      ]
    },
    {
      "cell_type": "markdown",
      "metadata": {},
      "source": [
        "### 6. Show Performance Metrics\n",
        "\n",
        "Display a summary of the strategy's performance, including CAGR, Sharpe Ratio, Max Drawdown, Win Rate, and Turnover."
      ]
    },
    {
      "cell_type": "code",
      "execution_count": null,
      "metadata": {},
      "outputs": [],
      "source": [
        "print(\"Calculating and displaying performance metrics...\")\n",
        "performance_summary = metrics.summarize(result)\n",
        "print(\"\\nPerformance Summary:\")\n",
        "print(performance_summary)"
      ]
    },
    {
      "cell_type": "markdown",
      "metadata": {},
      "source": [
        "### 7. Plot Results\n",
        "\n",
        "Visualize the strategy's equity curve over time and the corresponding drawdown periods."
      ]
    },
    {
      "cell_type": "code",
      "execution_count": null,
      "metadata": {},
      "outputs": [],
      "source": [
        "print(\"Plotting equity curve and drawdown periods...\")\n",
        "# Create a figure with two subplots (one for equity, one for drawdown)\n",
        "fig, (ax1, ax2) = plt.subplots(nrows=2, ncols=1, figsize=(14, 10), sharex=True)\n",
        "\n",
        "# Plot equity curve on the first subplot\n",
        "metrics.plot_equity(result, ax=ax1)\n",
        "ax1.set_title(f\"SPY SMA ({short_window}/{long_window}) Crossover: Equity Curve\")\n",
        "\n",
        "# Plot drawdown periods on the second subplot\n",
        "metrics.plot_drawdown(result, ax=ax2)\n",
        "ax2.set_title(\"Drawdown Periods\")\n",
        "\n",
        "plt.tight_layout() # Adjust layout to prevent overlapping titles/labels\n",
        "plt.show()"
      ]
    },
    {
      "cell_type": "markdown",
      "metadata": {},
      "source": [
        "### Next Steps\n",
        "\n",
        "- Try different signals or strategies (e.g., momentum, mean reversion, volatility-based models).\n",
        "- Implement parameter sweeps to optimize strategy parameters (like SMA windows).\n",
        "- Test the framework with other assets (e.g., QQQ, EFA, IEF) or a portfolio of assets.\n",
        "- Enhance the `metrics` module with additional performance measures (e.g., Sortino ratio, Calmar ratio, rolling Sharpe ratio, beta, alpha).\n",
        "- Develop more sophisticated transaction cost models (e.g., including slippage, fixed costs).\n",
        "- Add support for short selling or different position sizing schemes."
      ]
    }
  ],
  "metadata": {
    "kernelspec": {
      "display_name": "Python 3",
      "language": "python",
      "name": "python3"
    },
    "language_info": {
      "codemirror_mode": {
        "name": "ipython",
        "version": 3
      },
      "file_extension": ".py",
      "mimetype": "text/x-python",
      "name": "python",
      "nbconvert_exporter": "python",
      "pygments_lexer": "ipython3",
      "version": "3.12.1"
    }
  },
  "nbformat": 4,
  "nbformat_minor": 5
}
