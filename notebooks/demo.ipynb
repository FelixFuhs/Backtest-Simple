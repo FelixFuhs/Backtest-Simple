{
  "cells": [
    {
      "cell_type": "markdown",
      "metadata": {},
      "source": [
        "# Simple Moving Average Crossover Backtest Demo\n",
        "\n",
        "This notebook demonstrates a full backtesting pipeline using the modular framework:\n",
        "0. Install Dependencies (if needed)\n",
        "1. Setup Environment\n",
        "2. Import modules\n",
        "3. Load price and risk-free rate data\n",
        "4. Generate trading signals (SMA Crossover for SPY)\n",
        "5. Run the backtest simulation\n",
        "6. Display performance metrics\n",
        "7. Plot equity curve and drawdown periods"
      ]
    },
    {
      "cell_type": "markdown",
      "metadata": {},
      "source": [
        "### 0. Install Dependencies\n",
        "\n",
        "This cell installs the `yfinance` library, which is required for downloading financial data. If it's already installed, this command won't harm anything. After running this cell for the first time, you might need to **restart the kernel** for the changes to take effect before proceeding."
      ]
    },
    {
      "cell_type": "code",
      "execution_count": 1,
      "metadata": {},
      "outputs": [
        {
          "name": "stdout",
          "output_type": "stream",
          "text": [
            "Collecting yfinance\n",
            "  Downloading yfinance-0.2.61-py2.py3-none-any.whl.metadata (5.8 kB)\n",
            "Requirement already satisfied: pandas>=1.3.0 in /home/codespace/.local/lib/python3.12/site-packages (from yfinance) (2.2.3)\n",
            "Requirement already satisfied: numpy>=1.16.5 in /home/codespace/.local/lib/python3.12/site-packages (from yfinance) (2.2.4)\n",
            "Requirement already satisfied: requests>=2.31 in /home/codespace/.local/lib/python3.12/site-packages (from yfinance) (2.32.3)\n",
            "Collecting multitasking>=0.0.7 (from yfinance)\n",
            "  Downloading multitasking-0.0.11-py3-none-any.whl.metadata (5.5 kB)\n",
            "Requirement already satisfied: platformdirs>=2.0.0 in /home/codespace/.local/lib/python3.12/site-packages (from yfinance) (4.3.6)\n",
            "Requirement already satisfied: pytz>=2022.5 in /home/codespace/.local/lib/python3.12/site-packages (from yfinance) (2025.1)\n",
            "Collecting frozendict>=2.3.4 (from yfinance)\n",
            "  Downloading frozendict-2.4.6-py312-none-any.whl.metadata (23 kB)\n",
            "Collecting peewee>=3.16.2 (from yfinance)\n",
            "  Downloading peewee-3.18.1.tar.gz (3.0 MB)\n",
            "\u001b[2K     \u001b[90m━━━━━━━━━━━━━━━━━━━━━━━━━━━━━━━━━━━━━━━━\u001b[0m \u001b[32m3.0/3.0 MB\u001b[0m \u001b[31m58.2 MB/s\u001b[0m eta \u001b[36m0:00:00\u001b[0m\n",
            "\u001b[?25h  Installing build dependencies ... \u001b[?25ldone\n",
            "\u001b[?25h  Getting requirements to build wheel ... \u001b[?25ldone\n",
            "\u001b[?25h  Preparing metadata (pyproject.toml) ... \u001b[?25ldone\n",
            "\u001b[?25hRequirement already satisfied: beautifulsoup4>=4.11.1 in /home/codespace/.local/lib/python3.12/site-packages (from yfinance) (4.13.3)\n",
            "Collecting curl_cffi>=0.7 (from yfinance)\n",
            "  Downloading curl_cffi-0.11.1-cp39-abi3-manylinux_2_17_x86_64.manylinux2014_x86_64.whl.metadata (14 kB)\n",
            "Collecting protobuf>=3.19.0 (from yfinance)\n",
            "  Downloading protobuf-6.31.0-cp39-abi3-manylinux2014_x86_64.whl.metadata (593 bytes)\n",
            "Collecting websockets>=13.0 (from yfinance)\n",
            "  Downloading websockets-15.0.1-cp312-cp312-manylinux_2_5_x86_64.manylinux1_x86_64.manylinux_2_17_x86_64.manylinux2014_x86_64.whl.metadata (6.8 kB)\n",
            "Requirement already satisfied: soupsieve>1.2 in /home/codespace/.local/lib/python3.12/site-packages (from beautifulsoup4>=4.11.1->yfinance) (2.6)\n",
            "Requirement already satisfied: typing-extensions>=4.0.0 in /home/codespace/.local/lib/python3.12/site-packages (from beautifulsoup4>=4.11.1->yfinance) (4.12.2)\n",
            "Requirement already satisfied: cffi>=1.12.0 in /home/codespace/.local/lib/python3.12/site-packages (from curl_cffi>=0.7->yfinance) (1.17.1)\n",
            "Requirement already satisfied: certifi>=2024.2.2 in /home/codespace/.local/lib/python3.12/site-packages (from curl_cffi>=0.7->yfinance) (2025.1.31)\n",
            "Requirement already satisfied: python-dateutil>=2.8.2 in /home/codespace/.local/lib/python3.12/site-packages (from pandas>=1.3.0->yfinance) (2.9.0.post0)\n",
            "Requirement already satisfied: tzdata>=2022.7 in /home/codespace/.local/lib/python3.12/site-packages (from pandas>=1.3.0->yfinance) (2025.1)\n",
            "Requirement already satisfied: charset-normalizer<4,>=2 in /home/codespace/.local/lib/python3.12/site-packages (from requests>=2.31->yfinance) (3.4.1)\n",
            "Requirement already satisfied: idna<4,>=2.5 in /home/codespace/.local/lib/python3.12/site-packages (from requests>=2.31->yfinance) (3.10)\n",
            "Requirement already satisfied: urllib3<3,>=1.21.1 in /home/codespace/.local/lib/python3.12/site-packages (from requests>=2.31->yfinance) (2.3.0)\n",
            "Requirement already satisfied: pycparser in /home/codespace/.local/lib/python3.12/site-packages (from cffi>=1.12.0->curl_cffi>=0.7->yfinance) (2.22)\n",
            "Requirement already satisfied: six>=1.5 in /home/codespace/.local/lib/python3.12/site-packages (from python-dateutil>=2.8.2->pandas>=1.3.0->yfinance) (1.17.0)\n",
            "Downloading yfinance-0.2.61-py2.py3-none-any.whl (117 kB)\n",
            "Downloading curl_cffi-0.11.1-cp39-abi3-manylinux_2_17_x86_64.manylinux2014_x86_64.whl (8.5 MB)\n",
            "\u001b[2K   \u001b[90m━━━━━━━━━━━━━━━━━━━━━━━━━━━━━━━━━━━━━━━━\u001b[0m \u001b[32m8.5/8.5 MB\u001b[0m \u001b[31m64.8 MB/s\u001b[0m eta \u001b[36m0:00:00\u001b[0m\n",
            "\u001b[?25hDownloading frozendict-2.4.6-py312-none-any.whl (16 kB)\n",
            "Downloading multitasking-0.0.11-py3-none-any.whl (8.5 kB)\n",
            "Downloading protobuf-6.31.0-cp39-abi3-manylinux2014_x86_64.whl (320 kB)\n",
            "Downloading websockets-15.0.1-cp312-cp312-manylinux_2_5_x86_64.manylinux1_x86_64.manylinux_2_17_x86_64.manylinux2014_x86_64.whl (182 kB)\n",
            "Building wheels for collected packages: peewee\n",
            "  Building wheel for peewee (pyproject.toml) ... \u001b[?25ldone\n",
            "\u001b[?25h  Created wheel for peewee: filename=peewee-3.18.1-cp312-cp312-linux_x86_64.whl size=1029290 sha256=a48448f0da015f1b2f6a38465d9826ff1cfac36aeb625dfcf3d9f0ad6eab9c54\n",
            "  Stored in directory: /home/codespace/.cache/pip/wheels/1a/57/6a/bb71346381d0d911cd4ce3026f1fa720da76707e4f01cf27dd\n",
            "Successfully built peewee\n",
            "Installing collected packages: peewee, multitasking, websockets, protobuf, frozendict, curl_cffi, yfinance\n",
            "Successfully installed curl_cffi-0.11.1 frozendict-2.4.6 multitasking-0.0.11 peewee-3.18.1 protobuf-6.31.0 websockets-15.0.1 yfinance-0.2.61\n",
            "\n",
            "\u001b[1m[\u001b[0m\u001b[34;49mnotice\u001b[0m\u001b[1;39;49m]\u001b[0m\u001b[39;49m A new release of pip is available: \u001b[0m\u001b[31;49m25.0.1\u001b[0m\u001b[39;49m -> \u001b[0m\u001b[32;49m25.1.1\u001b[0m\n",
            "\u001b[1m[\u001b[0m\u001b[34;49mnotice\u001b[0m\u001b[1;39;49m]\u001b[0m\u001b[39;49m To update, run: \u001b[0m\u001b[32;49mpython3 -m pip install --upgrade pip\u001b[0m\n"
          ]
        }
      ],
      "source": [
        "!pip install yfinance"
      ]
    },
    {
      "cell_type": "markdown",
      "metadata": {},
      "source": [
        "### 1. Setup Environment\n",
        "\n",
        "Add the project's root directory to the Python path. This allows us to import the `src` package which contains our custom modules."
      ]
    },
    {
      "cell_type": "code",
      "execution_count": 2,
      "metadata": {},
      "outputs": [
        {
          "name": "stdout",
          "output_type": "stream",
          "text": [
            "Added project root /workspaces/Backtest-Simple to sys.path\n"
          ]
        }
      ],
      "source": [
        "# Add project root to Python path to import 'src' package\n",
        "import sys\n",
        "import pathlib\n",
        "\n",
        "# Assuming the notebook is in 'quant-backtester/notebooks/'\n",
        "# project_root will be 'quant-backtester/'\n",
        "project_root = pathlib.Path(\"..\").resolve()\n",
        "\n",
        "if str(project_root) not in sys.path:\n",
        "    sys.path.append(str(project_root))\n",
        "    print(f\"Added project root {project_root} to sys.path\")\n",
        "else:\n",
        "    print(f\"Project root {project_root} already in sys.path\")"
      ]
    },
    {
      "cell_type": "markdown",
      "metadata": {},
      "source": [
        "### 2. Imports\n",
        "\n",
        "Import necessary third-party libraries and our custom modules from the `src` package."
      ]
    },
    {
      "cell_type": "code",
      "execution_count": 3,
      "metadata": {},
      "outputs": [
        {
          "ename": "SyntaxError",
          "evalue": "expected 'else' after 'if' expression (metrics.py, line 39)",
          "output_type": "error",
          "traceback": [
            "Traceback \u001b[36m(most recent call last)\u001b[39m:\n",
            "  File \u001b[92m~/.local/lib/python3.12/site-packages/IPython/core/interactiveshell.py:3549\u001b[39m in \u001b[95mrun_code\u001b[39m\n    exec(code_obj, self.user_global_ns, self.user_ns)\n",
            "\u001b[36m  \u001b[39m\u001b[36mCell\u001b[39m\u001b[36m \u001b[39m\u001b[32mIn[3]\u001b[39m\u001b[32m, line 3\u001b[39m\n\u001b[31m    \u001b[39m\u001b[31mfrom src import data_loader, strategy, backtester, metrics\u001b[39m\n",
            "  \u001b[36mFile \u001b[39m\u001b[32m/workspaces/Backtest-Simple/src/metrics.py:39\u001b[39m\n\u001b[31m    \u001b[39m\u001b[31mmetrics['Turnover (%)'] = (num_trade_events / len(trades)) * 100 if len(trades)\u001b[39m\n                              ^\n\u001b[31mSyntaxError\u001b[39m\u001b[31m:\u001b[39m expected 'else' after 'if' expression\n"
          ]
        }
      ],
      "source": [
        "import pandas as pd\n",
        "import matplotlib.pyplot as plt\n",
        "from src import data_loader, strategy, backtester, metrics"
      ]
    },
    {
      "cell_type": "markdown",
      "metadata": {},
      "source": [
        "### 3. Load Data\n",
        "\n",
        "Fetch historical price data for SPY (S&P 500 ETF) from 2008 to the present. We also load daily risk-free rates from a local CSV file located in the project root."
      ]
    },
    {
      "cell_type": "code",
      "execution_count": null,
      "metadata": {},
      "outputs": [],
      "source": [
        "# Define parameters for data loading\n",
        "tickers = [\"SPY\"]\n",
        "start_date = \"2008-01-01\"\n",
        "end_date = None  # None means fetch up to the latest available data\n",
        "\n",
        "# Load historical OHLCV data\n",
        "print(f\"Loading price data for {tickers} from {start_date}...\")\n",
        "prices_df = data_loader.get_prices(tickers, start=start_date, end=end_date, cache=True)\n",
        "\n",
        "# Extract Adjusted Close prices for SPY as our main price series for the strategy\n",
        "price = prices_df[tickers[0]]['Adj Close']\n",
        "print(f\"Loaded SPY Adj Close prices: {len(price)} data points from {price.index.min().date()} to {price.index.max().date()}\\n\")\n",
        "\n",
        "# Load risk-free rates\n",
        "# project_root was defined in the first code cell\n",
        "rf_filename = \"risk-free.csv\"\n",
        "rf_path = project_root / rf_filename \n",
        "print(f\"Loading risk-free rates from {rf_path}...\")\n",
        "rf = data_loader.load_risk_free(path=str(rf_path))\n",
        "print(f\"Loaded risk-free rates: {len(rf)} data points from {rf.index.min().date()} to {rf.index.max().date()}\")"
      ]
    },
    {
      "cell_type": "markdown",
      "metadata": {},
      "source": [
        "### 4. Generate Signals\n",
        "\n",
        "Generate trading signals using a Simple Moving Average (SMA) Crossover strategy. We'll use a 50-day SMA as the short-term average and a 200-day SMA as the long-term average."
      ]
    },
    {
      "cell_type": "code",
      "execution_count": null,
      "metadata": {},
      "outputs": [],
      "source": [
        "# Define SMA window lengths\n",
        "short_window = 50\n",
        "long_window = 200\n",
        "\n",
        "print(f\"Generating SMA crossover signals (short: {short_window}, long: {long_window})...\")\n",
        "positions = strategy.sma_crossover_signal(price, short=short_window, long=long_window)\n",
        "print(\"Signal generation complete.\")\n",
        "print(f\"Positions series: {len(positions)} data points.\")\n",
        "print(f\"Example positions (last 5 days):\\n{positions.tail()}\")"
      ]
    },
    {
      "cell_type": "markdown",
      "metadata": {},
      "source": [
        "### 5. Run Backtest\n",
        "\n",
        "Simulate the trading strategy using the `Backtester` class. This will apply the generated positions to the historical price data, accounting for transaction costs and incorporating risk-free rates for periods when the strategy is flat."
      ]
    },
    {
      "cell_type": "code",
      "execution_count": null,
      "metadata": {},
      "outputs": [],
      "source": [
        "# Define transaction cost in basis points (10 bps = 0.1%)\n",
        "transaction_cost_bps = 10.0\n",
        "\n",
        "print(\"Initializing and running the backtest...\")\n",
        "bt_instance = backtester.Backtester(prices=price, positions=positions, rf=rf, cost_bps=transaction_cost_bps)\n",
        "result = bt_instance.run()\n",
        "print(\"Backtest complete.\")"
      ]
    },
    {
      "cell_type": "markdown",
      "metadata": {},
      "source": [
        "### 6. Show Performance Metrics\n",
        "\n",
        "Display a summary of the strategy's performance, including CAGR, Sharpe Ratio, Max Drawdown, Win Rate, and Turnover."
      ]
    },
    {
      "cell_type": "code",
      "execution_count": null,
      "metadata": {},
      "outputs": [],
      "source": [
        "print(\"Calculating and displaying performance metrics...\")\n",
        "performance_summary = metrics.summarize(result)\n",
        "print(\"\\nPerformance Summary:\")\n",
        "print(performance_summary)"
      ]
    },
    {
      "cell_type": "markdown",
      "metadata": {},
      "source": [
        "### 7. Plot Results\n",
        "\n",
        "Visualize the strategy's equity curve over time and the corresponding drawdown periods."
      ]
    },
    {
      "cell_type": "code",
      "execution_count": null,
      "metadata": {},
      "outputs": [],
      "source": [
        "print(\"Plotting equity curve and drawdown periods...\")\n",
        "# Create a figure with two subplots (one for equity, one for drawdown)\n",
        "fig, (ax1, ax2) = plt.subplots(nrows=2, ncols=1, figsize=(14, 10), sharex=True)\n",
        "\n",
        "# Plot equity curve on the first subplot\n",
        "metrics.plot_equity(result, ax=ax1)\n",
        "ax1.set_title(f\"SPY SMA ({short_window}/{long_window}) Crossover: Equity Curve\")\n",
        "\n",
        "# Plot drawdown periods on the second subplot\n",
        "metrics.plot_drawdown(result, ax=ax2)\n",
        "ax2.set_title(\"Drawdown Periods\")\n",
        "\n",
        "plt.tight_layout() # Adjust layout to prevent overlapping titles/labels\n",
        "plt.show()"
      ]
    },
    {
      "cell_type": "markdown",
      "metadata": {},
      "source": [
        "### Next Steps\n",
        "\n",
        "- Try different signals or strategies (e.g., momentum, mean reversion, volatility-based models).\n",
        "- Implement parameter sweeps to optimize strategy parameters (like SMA windows).\n",
        "- Test the framework with other assets (e.g., QQQ, EFA, IEF) or a portfolio of assets.\n",
        "- Enhance the `metrics` module with additional performance measures (e.g., Sortino ratio, Calmar ratio, rolling Sharpe ratio, beta, alpha).\n",
        "- Develop more sophisticated transaction cost models (e.g., including slippage, fixed costs).\n",
        "- Add support for short selling or different position sizing schemes."
      ]
    }
  ],
  "metadata": {
    "kernelspec": {
      "display_name": "Python 3",
      "language": "python",
      "name": "python3"
    },
    "language_info": {
      "codemirror_mode": {
        "name": "ipython",
        "version": 3
      },
      "file_extension": ".py",
      "mimetype": "text/x-python",
      "name": "python",
      "nbconvert_exporter": "python",
      "pygments_lexer": "ipython3",
      "version": "3.12.1"
    }
  },
  "nbformat": 4,
  "nbformat_minor": 5
}
