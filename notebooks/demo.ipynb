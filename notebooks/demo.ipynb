{
  "nbformat": 4,
  "nbformat_minor": 5,
  "metadata": {
    "kernelspec": {
      "display_name": "Python 3 (ipykernel)",
      "language": "python",
      "name": "python3"
    },
    "language_info": {
      "codemirror_mode": {
        "name": "ipython",
        "version": 3
      },
      "file_extension": ".py",
      "mimetype": "text/x-python",
      "name": "python",
      "nbconvert_exporter": "python",
      "pygments_lexer": "ipython3",
      "version": "3.10"
    }
  },
  "cells": [
    {
      "cell_type": "markdown",
      "metadata": {},
      "source": [
        "# Simple Moving Average Crossover Backtest Demo\n",
        "\n",
        "This notebook demonstrates a full backtesting pipeline using the modular framework, with added debugging information.\n",
        "0. Install Dependencies\n",
        "1. Setup Environment\n",
        "2. Import modules\n",
        "3. Load Data & Initial Inspection\n",
        "4. Generate Signals & Detailed Inspection\n",
        "5. Run Backtest & Inspect Inputs/Outputs\n",
        "6. Display Performance Metrics\n",
        "7. Plot Equity Curve and Drawdown Periods"
      ]
    },
    {
      "cell_type": "markdown",
      "metadata": {},
      "source": [
        "### 0. Install Dependencies\n",
        "\n",
        "Ensure `yfinance`, `pandas`, and `matplotlib` are installed. If running for the first time and packages are installed, **restart the kernel** afterwards."
      ]
    },
    {
      "cell_type": "code",
      "metadata": {},
      "source": [
        "!pip install yfinance pandas matplotlib --quiet"
      ],
      "execution_count": null,
      "outputs": []
    },
    {
      "cell_type": "markdown",
      "metadata": {},
      "source": [
        "### 1. Setup Environment\n",
        "\n",
        "Add the project's root directory to `sys.path` to allow importing the `src` package."
      ]
    },
    {
      "cell_type": "code",
      "metadata": {},
      "source": [
        "import sys\n",
        "import pathlib\n",
        "\n",
        "project_root = pathlib.Path(\"..\").resolve()\n",
        "if str(project_root) not in sys.path:\n",
        "    sys.path.append(str(project_root))\n",
        "    print(f\"Added project root {project_root} to sys.path\")\n",
        "else:\n",
        "    print(f\"Project root {project_root} already in sys.path\")"
      ],
      "execution_count": null,
      "outputs": []
    },
    {
      "cell_type": "markdown",
      "metadata": {},
      "source": [
        "### 2. Imports\n",
        "\n",
        "Import necessary libraries and custom modules."
      ]
    },
    {
      "cell_type": "code",
      "metadata": {},
      "source": [
        "import pandas as pd\n",
        "import numpy as np\n",
        "import matplotlib.pyplot as plt\n",
        "from src import data_loader, strategy, backtester, metrics\n",
        "print(\"Modules imported successfully.\")"
      ],
      "execution_count": null,
      "outputs": []
    },
    {
      "cell_type": "markdown",
      "metadata": {},
      "source": [
        "### 3. Load Data & Initial Inspection\n",
        "\n",
        "Fetch SPY price data and risk-free rates, then perform initial checks."
      ]
    },
    {
      "cell_type": "code",
      "metadata": {},
      "source": [
        "tickers = [\"SPY\"]\n",
        "start_date = \"2008-01-01\"\n",
        "end_date = None \n",
        "\n",
        "print(f\"--- Loading Price Data for {tickers} ---\")\n",
        "prices_df = data_loader.get_prices(tickers, start=start_date, end=end_date, cache=True)\n",
        "price = prices_df[tickers[0]]['Adj Close'].copy() # Use .copy() to avoid SettingWithCopyWarning on potential modifications\n",
        "print(f\"Loaded {tickers[0]} Adj Close prices: {len(price)} points.\")\n",
        "if not price.empty:\n",
        "    print(f\"Date range: {price.index.min().date()} to {price.index.max().date()}\")\n",
        "    print(\"Price Series Info:\")\n",
        "    price.info()\n",
        "    print(\"\\nPrice Series Description:\")\n",
        "    print(price.describe())\n",
        "    print(f\"\\nNaNs in price series: {price.isna().sum()}\")\n",
        "    print(f\"Is price index DatetimeIndex? {isinstance(price.index, pd.DatetimeIndex)}\")\n",
        "    print(f\"Is price index unique? {price.index.is_unique}\")\n",
        "    print(f\"Is price index monotonic increasing? {price.index.is_monotonic_increasing}\")\n",
        "    print(f\"Price head:\\n{price.head()}\")\n",
        "    print(f\"Price tail:\\n{price.tail()}\")\n",
        "else:\n",
        "    print(\"Price series is empty!\")\n",
        "\n",
        "print(f\"\\n--- Loading Risk-Free Rates ---\")\n",
        "rf_filename = \"risk-free.csv\"\n",
        "rf_path = project_root / rf_filename\n",
        "rf = data_loader.load_risk_free(path=str(rf_path))\n",
        "print(f\"Loaded risk-free rates: {len(rf)} points.\")\n",
        "if not rf.empty:\n",
        "    print(f\"Date range: {rf.index.min().date()} to {rf.index.max().date()}\")\n",
        "    print(\"Risk-Free Series Info:\")\n",
        "    rf.info()\n",
        "    print(\"\\nRisk-Free Series Description:\")\n",
        "    print(rf.describe())\n",
        "    print(f\"\\nNaNs in risk-free series: {rf.isna().sum()}\")\n",
        "    print(f\"Is rf index DatetimeIndex? {isinstance(rf.index, pd.DatetimeIndex)}\")\n",
        "else:\n",
        "    print(\"Risk-free series is empty!\")"
      ],
      "execution_count": null,
      "outputs": []
    },
    {
      "cell_type": "markdown",
      "metadata": {},
      "source": [
        "### 4. Generate Signals & Detailed Inspection\n",
        "\n",
        "Generate SMA Crossover signals and inspect their characteristics thoroughly."
      ]
    },
    {
      "cell_type": "code",
      "metadata": {},
      "source": [
        "short_window = 50\n",
        "long_window = 200\n",
        "\n",
        "print(f\"--- Generating SMA Crossover Signals (Short: {short_window}, Long: {long_window}) ---\")\n",
        "if price.empty:\n",
        "    print(\"Price series is empty, cannot generate signals.\")\n",
        "    positions = pd.Series(dtype=int) # Empty positions series\n",
        "else:\n",
        "    print(\"Price series head before signal generation:\")\n",
        "    print(price.head())\n",
        "    positions = strategy.sma_crossover_signal(price, short=short_window, long=long_window)\n",
        "    print(\"Signal generation complete.\")\n",
        "    print(f\"Generated positions series length: {len(positions)}\")"
      ],
      "execution_count": null,
      "outputs": []
    },
    {
      "cell_type": "markdown",
      "metadata": {},
      "source": [
        "#### 4a. Detailed Positions Inspection"
      ]
    },
    {
      "cell_type": "code",
      "metadata": {},
      "source": [
        "print(\"--- Inspecting Generated Positions ---\")\n",
        "if not positions.empty:\n",
        "    print(\"Positions value counts (0: Flat, 1: Long):\")\n",
        "    print(positions.value_counts(dropna=False))\n",
        "    if (positions == 0).all():\n",
        "        print(\"\\nCRITICAL WARNING: Strategy resulted in all zero (flat) positions!\")\n",
        "    elif (positions == 1).all():\n",
        "        print(\"\\nCRITICAL WARNING: Strategy resulted in all one (long) positions!\")\n",
        "\n",
        "    print(\"\\nPeriods of holding long (1) or flat (0):\")\n",
        "    if len(positions) > 0:\n",
        "        current_state = positions.iloc[0]\n",
        "        current_start_date = positions.index[0]\n",
        "        for i in range(1, len(positions)):\n",
        "            if positions.iloc[i] != current_state:\n",
        "                period_end_date = positions.index[i-1]\n",
        "                print(f\"  State {current_state} from {current_start_date.date()} to {period_end_date.date()} ({(period_end_date - current_start_date).days + 1} days)\")\n",
        "                current_state = positions.iloc[i]\n",
        "                current_start_date = positions.index[i]\n",
        "        period_end_date = positions.index[-1]\n",
        "        print(f\"  State {current_state} from {current_start_date.date()} to {period_end_date.date()} ({(period_end_date - current_start_date).days + 1} days)\")\n",
        "    else:\n",
        "        print(\"  Positions series has data but length is 0 after initial index, unusual.\")\n",
        "\n",
        "    trade_signals = positions.diff().fillna(0).astype(int)\n",
        "    print(\"\\nTrade signals (1: Buy, -1: Sell, 0: Hold):\")\n",
        "    print(trade_signals.value_counts(dropna=False))\n",
        "\n",
        "    actual_trade_dates = trade_signals[trade_signals != 0].index\n",
        "    if not actual_trade_dates.empty:\n",
        "        print(f\"\\nActual trade dates ({len(actual_trade_dates)} trades):\")\n",
        "        for trade_date in actual_trade_dates:\n",
        "            action = \"Buy\" if trade_signals.loc[trade_date] == 1 else \"Sell\"\n",
        "            print(f\"  {trade_date.date()}: {action} (Position became {positions.loc[trade_date]})\")\n",
        "    else:\n",
        "        print(\"\\nNo actual trades detected (position did not change). This confirms the Turnover metric.\")\n",
        "\n",
        "    fig_pos, ax_pos = plt.subplots(figsize=(14, 4))\n",
        "    positions.plot(ax=ax_pos, title=\"Strategy Positions Over Time (0=Flat, 1=Long)\", drawstyle=\"steps-post\")\n",
        "    ax_pos.set_yticks([0, 1])\n",
        "    ax_pos.set_yticklabels(['Flat (0)', 'Long (1)'])\n",
        "    ax_pos.grid(True, linestyle='--', alpha=0.7)\n",
        "    plt.show()\n",
        "else:\n",
        "    print(\"Positions series is empty, cannot inspect.\")"
      ],
      "execution_count": null,
      "outputs": []
    },
    {
      "cell_type": "markdown",
      "metadata": {},
      "source": [
        "#### 4b. Price and SMAs Inspection\n",
        "\n",
        "This cell plots the price series and the calculated SMAs to visually inspect crossover points. If this plot is blank or shows an incorrect date range, it indicates a problem with the `price` data handling or the plotting itself."
      ]
    },
    {
      "cell_type": "code",
      "metadata": {},
      "source": [
        "print(\"\\n--- Inspecting SMAs and Price for Crossover Logic ---\")\n",
        "if price.empty:\n",
        "    print(\"Price series is empty. Cannot plot SMAs.\")\n",
        "else:\n",
        "    print(f\"Using price series from {price.index.min().date()} to {price.index.max().date()} for SMA calculation.\")\n",
        "    \n",
        "    # Calculate SMAs for plotting\n",
        "    sma_short_plot = price.rolling(window=short_window, min_periods=short_window).mean()\n",
        "    sma_long_plot = price.rolling(window=long_window, min_periods=long_window).mean()\n",
        "    \n",
        "    print(f\"\\nSMA {short_window} calculated. Describe:\")\n",
        "    print(sma_short_plot.describe())\n",
        "    print(f\"SMA {short_window} NaNs: {sma_short_plot.isna().sum()}\")\n",
        "    print(f\"SMA {short_window} head:\\n{sma_short_plot.head(long_window // 2)}\") # Show more head to see when it becomes non-NaN\n",
        "\n",
        "    print(f\"\\nSMA {long_window} calculated. Describe:\")\n",
        "    print(sma_long_plot.describe())\n",
        "    print(f\"SMA {long_window} NaNs: {sma_long_plot.isna().sum()}\")\n",
        "    print(f\"SMA {long_window} head:\\n{sma_long_plot.head(long_window + 5)}\") # Show more head\n",
        "    \n",
        "    # Boolean condition for crossover (before shift and fill in strategy)\n",
        "    crossover_condition = sma_short_plot > sma_long_plot\n",
        "    print(\"\\nCrossover Condition (SMA_short > SMA_long) value counts:\")\n",
        "    print(crossover_condition.value_counts(dropna=False))\n",
        "    print(\"Crossover Condition head (first ~250 days to see past long SMA NaN period):\")\n",
        "    print(crossover_condition.iloc[long_window-5 : long_window+20])\n", # View around where long SMA becomes valid
        "    print(\"Crossover Condition tail:\")\n",
        "    print(crossover_condition.tail())\n",
        "\n",
        "    fig_sma, ax_sma = plt.subplots(figsize=(15, 8))\n",
        "    try:\n",
        "        price.plot(ax=ax_sma, label=f'{tickers[0]} Adj Close', alpha=0.7, color='dimgray', zorder=1)\n",
        "        sma_short_plot.plot(ax=ax_sma, label=f'SMA {short_window}', color='orange', zorder=2, lw=1.5)\n",
        "        sma_long_plot.plot(ax=ax_sma, label=f'SMA {long_window}', color='dodgerblue', zorder=2, lw=1.5)\n",
        "\n",
        "        # Highlight actual trade dates if they exist (from cell 4a)\n",
        "        if 'actual_trade_dates' in locals() and not actual_trade_dates.empty:\n",
        "            # Ensure trade_signals is defined if actual_trade_dates is not empty\n",
        "            if 'trade_signals' not in locals():\n",
        "                 trade_signals = positions.diff().fillna(0).astype(int)\n",
        "\n",
        "            buys = actual_trade_dates[trade_signals.loc[actual_trade_dates] == 1]\n",
        "            sells = actual_trade_dates[trade_signals.loc[actual_trade_dates] == -1]\n",
        "            if not buys.empty:\n",
        "                ax_sma.plot(buys, price.loc[buys], '^', markersize=10, color='lime', alpha=0.9, label='Buy Signal Entry', markeredgecolor='black', zorder=3)\n",
        "            if not sells.empty:\n",
        "                ax_sma.plot(sells, price.loc[sells], 'v', markersize=10, color='red', alpha=0.9, label='Sell Signal Entry', markeredgecolor='black', zorder=3)\n",
        "        \n",
        "        ax_sma.legend(loc='upper left')\n",
        "        ax_sma.set_title(f\"{tickers[0]} Price & SMAs ({short_window}/{long_window}) - Crossover Check\", fontsize=16)\n",
        "        ax_sma.set_xlabel(\"Date\", fontsize=12)\n",
        "        ax_sma.set_ylabel(\"Price\", fontsize=12)\n",
        "        ax_sma.set_xlim(price.index.min(), price.index.max()) # Ensure full date range\n",
        "        ax_sma.grid(True, linestyle='--', alpha=0.5)\n",
        "        plt.show()\n",
        "        print(\"Full SMA plot displayed.\")\n",
        "    except Exception as e:\n",
        "        print(f\"ERROR during SMA plot generation: {e}\")"
      ],
      "execution_count": null,
      "outputs": []
    },
    {
      "cell_type": "markdown",
      "metadata": {},
      "source": [
        "### 5. Run Backtest & Inspect Inputs/Outputs\n",
        "\n",
        "Simulate the strategy, inspecting data passed to and received from the backtester."
      ]
    },
    {
      "cell_type": "code",
      "metadata": {},
      "source": [
        "transaction_cost_bps = 10.0\n",
        "\n",
        "print(\"--- Inputs to Backtester ---\")\n",
        "print(\"Price series for backtester:\")\n",
        "if 'price' in locals() and not price.empty:\n",
        "    price.info()\n",
        "    print(price.head(3))\n",
        "else:\n",
        "    print(\"Price series is not available or empty.\")\n",
        "\n",
        "print(\"\\nPositions series for backtester:\")\n",
        "if 'positions' in locals() and not positions.empty:\n",
        "    positions.info()\n",
        "    print(positions.head(3))\n",
        "else:\n",
        "    print(\"Positions series is not available or empty.\")\n",
        "\n",
        "print(\"\\nRisk-free series for backtester:\")\n",
        "if 'rf' in locals() and not rf.empty:\n",
        "    rf.info()\n",
        "    print(rf.head(3))\n",
        "else:\n",
        "    print(\"Risk-free series is not available or empty.\")\n",
        "\n",
        "print(\"\\nInitializing and running the backtest...\")\n",
        "if 'price' in locals() and not price.empty and 'positions' in locals() and not positions.empty:\n",
        "    bt_instance = backtester.Backtester(prices=price, positions=positions, rf=rf, cost_bps=transaction_cost_bps)\n",
        "    result = bt_instance.run()\n",
        "    print(\"Backtest complete.\")\n",
        "\n",
        "    print(\"\\n--- Outputs from Backtester (BacktestResult) ---\")\n",
        "    print(\"Equity Curve Description:\")\n",
        "    print(result.equity_curve.describe())\n",
        "    print(f\"Equity Curve NaNs: {result.equity_curve.isna().sum()}\")\n",
        "    print(\"\\nTrades Series Value Counts (from BacktestResult):\")\n",
        "    print(result.trades.value_counts(dropna=False))\n",
        "    print(\"\\nPositions Series Value Counts (from BacktestResult):\")\n",
        "    print(result.positions.value_counts(dropna=False))\n",
        "else:\n",
        "    print(\"Cannot run backtest - price or positions series is missing/empty.\")\n",
        "    result = None # Ensure result is defined for later cells, though it will be None"
      ],
      "execution_count": null,
      "outputs": []
    },
    {
      "cell_type": "markdown",
      "metadata": {},
      "source": [
        "### 6. Show Performance Metrics\n",
        "\n",
        "Display a summary of the strategy's performance."
      ]
    },
    {
      "cell_type": "code",
      "metadata": {},
      "source": [
        "print(\"--- Calculating Performance Metrics ---\")\n",
        "if 'result' in locals() and result is not None:\n",
        "    performance_summary = metrics.summarize(result)\n",
        "    print(\"\\nPerformance Summary:\")\n",
        "    print(performance_summary)\n",
        "else:\n",
        "    print(\"Backtest result not available, cannot summarize performance.\")"
      ],
      "execution_count": null,
      "outputs": []
    },
    {
      "cell_type": "markdown",
      "metadata": {},
      "source": [
        "### 7. Plot Results\n",
        "\n",
        "Visualize the equity curve and drawdown periods."
      ]
    },
    {
      "cell_type": "code",
      "metadata": {},
      "source": [
        "print(\"--- Plotting Equity Curve and Drawdown Periods ---\")\n",
        "if 'result' in locals() and result is not None and not result.equity_curve.empty:\n",
        "    fig, (ax1, ax2) = plt.subplots(nrows=2, ncols=1, figsize=(14, 10), sharex=True)\n",
        "    \n",
        "    metrics.plot_equity(result, ax=ax1)\n",
        "    ax1.set_title(f\"{tickers[0]} SMA ({short_window}/{long_window}) Crossover: Equity Curve\")\n",
        "    \n",
        "    metrics.plot_drawdown(result, ax=ax2)\n",
        "    ax2.set_title(\"Drawdown Periods\")\n",
        "    \n",
        "    plt.tight_layout()\n",
        "    plt.show()\n",
        "else:\n",
        "    print(\"Backtest result not available or equity curve is empty, cannot plot.\")"
      ],
      "execution_count": null,
      "outputs": []
    },
    {
      "cell_type": "markdown",
      "metadata": {},
      "source": [
        "### Next Steps\n",
        "\n",
        "- Analyze the diagnostic plots: Why are there no trades? Is the SMA crossover condition `sma_short > sma_long` never met after the initial period, or is there an issue in how `positions` are derived from this condition in `strategy.py`?\n",
        "- Adjust SMA windows (`short_window`, `long_window`) or the asset (`tickers`) to see if trades are generated under different conditions.\n",
        "- If the SMA plot is still blank or incorrect, further investigate the `price` series (e.g., check for large gaps, non-numeric data if not caught by `.info()`, or issues with its DatetimeIndex specifically affecting Matplotlib).\n",
        "- Consider alternative strategies if SMA crossover remains inactive for the chosen parameters/asset."
      ]
    }
  ]
}
